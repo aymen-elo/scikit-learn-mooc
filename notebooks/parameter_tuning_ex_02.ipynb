{
 "cells": [
  {
   "cell_type": "markdown",
   "id": "6cc42be4",
   "metadata": {},
   "source": [
    "# 📝 Exercise M3.01\n",
    "\n",
    "The goal is to write an exhaustive search to find the best parameters\n",
    "combination maximizing the model generalization performance.\n",
    "\n",
    "Here we use a small subset of the Adult Census dataset to make the code faster\n",
    "to execute. Once your code works on the small subset, try to change\n",
    "`train_size` to a larger value (e.g. 0.8 for 80% instead of 20%)."
   ]
  },
  {
   "cell_type": "code",
   "execution_count": 34,
   "id": "6f459135",
   "metadata": {},
   "outputs": [],
   "source": [
    "import pandas as pd\n",
    "\n",
    "from sklearn.model_selection import train_test_split\n",
    "\n",
    "adult_census = pd.read_csv(\"../datasets/adult-census.csv\")\n",
    "\n",
    "target_name = \"class\"\n",
    "target = adult_census[target_name]\n",
    "data = adult_census.drop(columns=[target_name, \"education-num\"])\n",
    "\n",
    "data_train, data_test, target_train, target_test = train_test_split(\n",
    "    data, target, train_size=0.2, random_state=42\n",
    ")"
   ]
  },
  {
   "cell_type": "code",
   "execution_count": 35,
   "id": "213e3e9c",
   "metadata": {},
   "outputs": [],
   "source": [
    "from sklearn.compose import make_column_transformer\n",
    "from sklearn.compose import make_column_selector as selector\n",
    "from sklearn.preprocessing import OrdinalEncoder\n",
    "\n",
    "categorical_preprocessor = OrdinalEncoder(\n",
    "    handle_unknown=\"use_encoded_value\", unknown_value=-1\n",
    ")\n",
    "preprocessor = make_column_transformer(\n",
    "    (categorical_preprocessor, selector(dtype_include=object)),\n",
    "    remainder=\"passthrough\",\n",
    ")\n",
    "\n",
    "from sklearn.ensemble import HistGradientBoostingClassifier\n",
    "from sklearn.pipeline import Pipeline\n",
    "\n",
    "model = Pipeline(\n",
    "    [\n",
    "        (\"preprocessor\", preprocessor),\n",
    "        (\"classifier\", HistGradientBoostingClassifier(random_state=42)),\n",
    "    ]\n",
    ")"
   ]
  },
  {
   "cell_type": "markdown",
   "id": "42ff5327",
   "metadata": {},
   "source": [
    "Use the previously defined model (called `model`) and using two nested `for`\n",
    "loops, make a search of the best combinations of the `learning_rate` and\n",
    "`max_leaf_nodes` parameters. In this regard, you need to train and test the\n",
    "model by setting the parameters. The evaluation of the model should be\n",
    "performed using `cross_val_score` on the training set. Use the following\n",
    "parameters search:\n",
    "- `learning_rate` for the values 0.01, 0.1, 1 and 10. This parameter controls\n",
    "  the ability of a new tree to correct the error of the previous sequence of\n",
    "  trees\n",
    "- `max_leaf_nodes` for the values 3, 10, 30. This parameter controls the depth\n",
    "  of each tree."
   ]
  },
  {
   "cell_type": "code",
   "execution_count": 36,
   "id": "67e5642e",
   "metadata": {},
   "outputs": [],
   "source": [
    "from sklearn.model_selection import cross_val_score\n",
    "\n",
    "learning_rates = [1e-2, 1e-1, 1, 10]\n",
    "max_leaves_nodes = [3, 10, 30]"
   ]
  },
  {
   "cell_type": "code",
   "execution_count": 37,
   "id": "d8283c8d-993a-4d1a-a037-6c3eb40b2d74",
   "metadata": {},
   "outputs": [
    {
     "name": "stdout",
     "output_type": "stream",
     "text": [
      "The score is 0.7895167448342078 ± 0.0036849010032786417\n",
      "The score is 0.8135749478140604 ± 0.002472448816213207\n",
      "The score is 0.8415242853945927 ± 0.006772678658768942\n",
      "The score is 0.848690280968156 ± 0.003584970927016427\n",
      "The score is 0.8634318983313601 ± 0.004819126026076143\n",
      "The score is 0.8611794258210212 ± 0.005819082138923353\n",
      "The score is 0.854115784392801 ± 0.006151889305972811\n",
      "The score is 0.8372241534819539 ± 0.008324200933981259\n",
      "The score is 0.8238127207387947 ± 0.00640636369219988\n",
      "The score is 0.2882867131950897 ± 0.008163650477184288\n",
      "The score is 0.6461141324713153 ± 0.14549737992994932\n",
      "The score is 0.5339030156476585 ± 0.1906607424921216\n"
     ]
    }
   ],
   "source": [
    "for lr in learning_rates:\n",
    "    for mln in max_leaves_nodes:\n",
    "        model.set_params(classifier__learning_rate=lr)\n",
    "        model.set_params(classifier__max_leaf_nodes=mln)\n",
    "        cv_results = cross_val_score(\n",
    "            model, data_train, target_train\n",
    "        )\n",
    "        print(f\"The score is {cv_results.mean()} ± {cv_results.std()}\")"
   ]
  },
  {
   "cell_type": "markdown",
   "id": "681ed174-ebef-48b2-be25-30425b5078c0",
   "metadata": {},
   "source": [
    "**From the results, we can see that the 5th score is the best:\\\n",
    "i.e. *Learning rate = 0.1* / *Max leaf nodes = 10*\\\n",
    "This is the best scoring combo.**"
   ]
  },
  {
   "cell_type": "markdown",
   "id": "af46d009",
   "metadata": {},
   "source": [
    "Now use the test set to score the model using the best parameters that we\n",
    "found using cross-validation. You will have to refit the model over the full\n",
    "training set."
   ]
  },
  {
   "cell_type": "code",
   "execution_count": 40,
   "id": "cb2cdb95",
   "metadata": {},
   "outputs": [
    {
     "name": "stdout",
     "output_type": "stream",
     "text": [
      "The score is 0.8695807954138302\n"
     ]
    }
   ],
   "source": [
    "model.set_params(\n",
    "    classifier__learning_rate=0.1, classifier__max_leaf_nodes=10\n",
    ")\n",
    "model.fit(data_train, target_train)\n",
    "test_score = model.score(data_test, target_test)\n",
    "\n",
    "print(f\"The score is {test_score}\")"
   ]
  }
 ],
 "metadata": {
  "jupytext": {
   "main_language": "python"
  },
  "kernelspec": {
   "display_name": "Python 3 (ipykernel)",
   "language": "python",
   "name": "python3"
  },
  "language_info": {
   "codemirror_mode": {
    "name": "ipython",
    "version": 3
   },
   "file_extension": ".py",
   "mimetype": "text/x-python",
   "name": "python",
   "nbconvert_exporter": "python",
   "pygments_lexer": "ipython3",
   "version": "3.13.7"
  }
 },
 "nbformat": 4,
 "nbformat_minor": 5
}
