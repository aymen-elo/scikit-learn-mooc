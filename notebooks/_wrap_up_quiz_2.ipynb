{
 "cells": [
  {
   "cell_type": "markdown",
   "id": "a75c2e25-7def-4423-b4c0-36f02d1ed394",
   "metadata": {},
   "source": [
    "# Q1"
   ]
  },
  {
   "cell_type": "code",
   "execution_count": 1,
   "id": "86346393-ee00-421d-b578-8aef8c6e4b35",
   "metadata": {},
   "outputs": [],
   "source": [
    "import pandas as pd\n",
    "\n",
    "blood_transfusion = pd.read_csv(\"../datasets/blood_transfusion.csv\")\n",
    "target_name = \"Class\"\n",
    "data = blood_transfusion.drop(columns=target_name)\n",
    "target = blood_transfusion[target_name]"
   ]
  },
  {
   "cell_type": "code",
   "execution_count": 8,
   "id": "40e3670f-134f-4881-b83c-c1610645d7a3",
   "metadata": {},
   "outputs": [
    {
     "data": {
      "text/plain": [
       "Class\n",
       "not donated    570\n",
       "donated        178\n",
       "Name: count, dtype: int64"
      ]
     },
     "execution_count": 8,
     "metadata": {},
     "output_type": "execute_result"
    }
   ],
   "source": [
    "target.value_counts()"
   ]
  },
  {
   "cell_type": "markdown",
   "id": "da0db51a-c533-4003-a0b1-0a94b0ebcfc4",
   "metadata": {},
   "source": [
    "# Q2"
   ]
  },
  {
   "cell_type": "code",
   "execution_count": 9,
   "id": "4d14e880-8485-427f-a6dc-6e6ed6358808",
   "metadata": {},
   "outputs": [],
   "source": [
    "from sklearn.dummy import DummyClassifier\n",
    "from sklearn.model_selection import cross_validate\n",
    "\n",
    "cv_results = cross_validate(\n",
    "    DummyClassifier(strategy=\"most_frequent\"),\n",
    "    data,\n",
    "    target,\n",
    "    cv=10\n",
    ")"
   ]
  },
  {
   "cell_type": "code",
   "execution_count": 11,
   "id": "56098db5-f0d4-4d7c-a103-9a61fa299803",
   "metadata": {},
   "outputs": [
    {
     "name": "stdout",
     "output_type": "stream",
     "text": [
      "0.762\n"
     ]
    }
   ],
   "source": [
    "print(f\"{cv_results[\"test_score\"].mean():.3f}\")"
   ]
  },
  {
   "cell_type": "markdown",
   "id": "f6d06f74-3623-4d2e-be2c-b31001512fd1",
   "metadata": {},
   "source": [
    "# Q3"
   ]
  },
  {
   "cell_type": "code",
   "execution_count": 15,
   "id": "0e97b485-a61c-471f-a4ce-71c8fa095dcf",
   "metadata": {},
   "outputs": [],
   "source": [
    "cv_results = cross_validate(\n",
    "    DummyClassifier(strategy=\"most_frequent\"),\n",
    "    data,\n",
    "    target,\n",
    "    cv=10,\n",
    "    scoring=\"balanced_accuracy\"\n",
    ")"
   ]
  },
  {
   "cell_type": "code",
   "execution_count": 16,
   "id": "eb9b4bef-052f-4e84-8ea4-20812069d3f1",
   "metadata": {},
   "outputs": [
    {
     "name": "stdout",
     "output_type": "stream",
     "text": [
      "0.500\n"
     ]
    }
   ],
   "source": [
    "print(f\"{cv_results[\"test_score\"].mean():.3f}\")"
   ]
  },
  {
   "cell_type": "markdown",
   "id": "e685967d-8036-49a3-a3cc-f4e015f425a8",
   "metadata": {},
   "source": [
    "# Q4"
   ]
  },
  {
   "cell_type": "code",
   "execution_count": 17,
   "id": "26849ccc-c567-415e-a28e-2a883059df71",
   "metadata": {},
   "outputs": [],
   "source": [
    "from sklearn.pipeline import make_pipeline\n",
    "from sklearn.preprocessing import StandardScaler\n",
    "from sklearn.neighbors import KNeighborsClassifier\n",
    "\n",
    "model = make_pipeline(StandardScaler(), KNeighborsClassifier())"
   ]
  },
  {
   "cell_type": "code",
   "execution_count": 18,
   "id": "df4de754-26c4-433c-bcfe-8f381f4085c7",
   "metadata": {},
   "outputs": [
    {
     "data": {
      "text/plain": [
       "{'memory': None,\n",
       " 'steps': [('standardscaler', StandardScaler()),\n",
       "  ('kneighborsclassifier', KNeighborsClassifier())],\n",
       " 'transform_input': None,\n",
       " 'verbose': False,\n",
       " 'standardscaler': StandardScaler(),\n",
       " 'kneighborsclassifier': KNeighborsClassifier(),\n",
       " 'standardscaler__copy': True,\n",
       " 'standardscaler__with_mean': True,\n",
       " 'standardscaler__with_std': True,\n",
       " 'kneighborsclassifier__algorithm': 'auto',\n",
       " 'kneighborsclassifier__leaf_size': 30,\n",
       " 'kneighborsclassifier__metric': 'minkowski',\n",
       " 'kneighborsclassifier__metric_params': None,\n",
       " 'kneighborsclassifier__n_jobs': None,\n",
       " 'kneighborsclassifier__n_neighbors': 5,\n",
       " 'kneighborsclassifier__p': 2,\n",
       " 'kneighborsclassifier__weights': 'uniform'}"
      ]
     },
     "execution_count": 18,
     "metadata": {},
     "output_type": "execute_result"
    }
   ],
   "source": [
    "model.get_params()"
   ]
  },
  {
   "cell_type": "markdown",
   "id": "8a931a5f-1251-485e-b9b0-92293829cde2",
   "metadata": {},
   "source": [
    "# Q6"
   ]
  },
  {
   "cell_type": "code",
   "execution_count": 20,
   "id": "aac8305e-3b63-464e-aba9-4ab17c5c28fd",
   "metadata": {},
   "outputs": [],
   "source": [
    "model = make_pipeline(StandardScaler(), KNeighborsClassifier(n_neighbors=1))\n",
    "\n",
    "cv_results = cross_validate(\n",
    "    model,\n",
    "    data,\n",
    "    target,\n",
    "    cv=10,\n",
    "    scoring=\"balanced_accuracy\",\n",
    "    return_train_score=True\n",
    ")"
   ]
  },
  {
   "cell_type": "code",
   "execution_count": 22,
   "id": "8c88cdbc-7ee8-45f7-94ca-607189e0d5a9",
   "metadata": {},
   "outputs": [
    {
     "data": {
      "text/plain": [
       "0.8879979500381389"
      ]
     },
     "execution_count": 22,
     "metadata": {},
     "output_type": "execute_result"
    }
   ],
   "source": [
    "float(cv_results[\"train_score\"].mean())"
   ]
  },
  {
   "cell_type": "code",
   "execution_count": 21,
   "id": "20311244-7e88-4233-902e-bc0da086b426",
   "metadata": {},
   "outputs": [
    {
     "data": {
      "text/plain": [
       "0.4727468180254559"
      ]
     },
     "execution_count": 21,
     "metadata": {},
     "output_type": "execute_result"
    }
   ],
   "source": [
    "float(cv_results[\"test_score\"].mean())"
   ]
  },
  {
   "cell_type": "markdown",
   "id": "40cfc92d-943c-45df-87ae-d12b595ac18e",
   "metadata": {},
   "source": [
    "# Q7"
   ]
  },
  {
   "cell_type": "code",
   "execution_count": 25,
   "id": "318aa632-1900-4eb9-8665-e84b0c35e070",
   "metadata": {},
   "outputs": [
    {
     "data": {
      "text/plain": [
       "<sklearn.model_selection._plot.ValidationCurveDisplay at 0x235bb5f9d30>"
      ]
     },
     "execution_count": 25,
     "metadata": {},
     "output_type": "execute_result"
    },
    {
     "data": {
      "image/png": "[encoded data removed]",
      "text/plain": [
       "<Figure size 640x480 with 1 Axes>"
      ]
     },
     "metadata": {},
     "output_type": "display_data"
    }
   ],
   "source": [
    "from sklearn.model_selection import ValidationCurveDisplay\n",
    "import numpy as np\n",
    "param_range = np.array([1, 2, 5, 10, 20, 50, 100, 200, 500])\n",
    "\n",
    "ValidationCurveDisplay.from_estimator(\n",
    "    model,\n",
    "    data,\n",
    "    target,\n",
    "    param_name=\"kneighborsclassifier__n_neighbors\",\n",
    "    param_range=param_range,\n",
    "    cv=5,\n",
    "    scoring=\"balanced_accuracy\"\n",
    ")"
   ]
  }
 ],
 "metadata": {
  "kernelspec": {
   "display_name": "Python 3 (ipykernel)",
   "language": "python",
   "name": "python3"
  },
  "language_info": {
   "codemirror_mode": {
    "name": "ipython",
    "version": 3
   },
   "file_extension": ".py",
   "mimetype": "text/x-python",
   "name": "python",
   "nbconvert_exporter": "python",
   "pygments_lexer": "ipython3",
   "version": "3.13.7"
  }
 },
 "nbformat": 4,
 "nbformat_minor": 5
}
